{
 "cells": [
  {
   "cell_type": "markdown",
   "metadata": {
    "collapsed": true
   },
   "source": [
    "# Assignment 2\n",
    "Let's test your knowledge!"
   ]
  },
  {
   "cell_type": "markdown",
   "metadata": {},
   "source": [
    "_____\n",
    "**Use <code>for</code>, .split(), and <code>if</code> to create a Statement that will print out words that start with 's':**"
   ]
  },
  {
   "cell_type": "code",
   "execution_count": null,
   "metadata": {},
   "outputs": [],
   "source": [
    "st = 'Print only the words that start with s in this sentence'"
   ]
  },
  {
   "cell_type": "code",
   "execution_count": 17,
   "metadata": {},
   "outputs": [
    {
     "name": "stdout",
     "output_type": "stream",
     "text": [
      "student\n",
      "Science\n"
     ]
    }
   ],
   "source": [
    "sentence = \"Ahmed is a student in the Faculty of Science\"\n",
    "words = sentence.split()\n",
    "for word in words:\n",
    "    if word.startswith('s') or word.startswith('S'):\n",
    "        print(word)"
   ]
  },
  {
   "cell_type": "markdown",
   "metadata": {},
   "source": [
    "______\n",
    "**Use range() to print all the even numbers from 0 to 10.**"
   ]
  },
  {
   "cell_type": "code",
   "execution_count": 8,
   "metadata": {},
   "outputs": [
    {
     "name": "stdout",
     "output_type": "stream",
     "text": [
      "0\n",
      "2\n",
      "4\n",
      "6\n",
      "8\n"
     ]
    }
   ],
   "source": [
    "for i in range(10):\n",
    "    if i %2 == 0 :\n",
    "        print(i)"
   ]
  },
  {
   "cell_type": "markdown",
   "metadata": {},
   "source": [
    "___\n",
    "**Use a List Comprehension to create a list of all numbers between 1 and 50 that are divisible by 3.**"
   ]
  },
  {
   "cell_type": "code",
   "execution_count": 11,
   "metadata": {},
   "outputs": [
    {
     "name": "stdout",
     "output_type": "stream",
     "text": [
      "[0, 3, 6, 9, 12, 15, 18, 21, 24, 27, 30, 33, 36, 39, 42, 45, 48]\n"
     ]
    }
   ],
   "source": [
    "#Code Here\n",
    "odd_numbers=[]\n",
    "for i in range(50):\n",
    "    if i %3 == 0:\n",
    "        odd_numbers.append(i)\n",
    "print(odd_numbers)\n",
    "        "
   ]
  },
  {
   "cell_type": "markdown",
   "metadata": {},
   "source": [
    "_____\n",
    "**Go through the string below and if the length of a word is even print \"even!\"**"
   ]
  },
  {
   "cell_type": "code",
   "execution_count": null,
   "metadata": {},
   "outputs": [],
   "source": [
    "st = 'Print every word in this sentence that has an even number of letters'"
   ]
  },
  {
   "cell_type": "code",
   "execution_count": 19,
   "metadata": {},
   "outputs": [
    {
     "name": "stdout",
     "output_type": "stream",
     "text": [
      "word is even!\n",
      "in is even!\n",
      "this is even!\n",
      "sentence is even!\n",
      "that is even!\n",
      "an is even!\n",
      "even is even!\n",
      "number is even!\n",
      "of is even!\n"
     ]
    }
   ],
   "source": [
    "#Code in this cell\n",
    "st = 'Print every word in this sentence that has an even number of letters'\n",
    "words = st.split()\n",
    "for word in words:\n",
    "    if len(word) % 2 == 0:\n",
    "        print(word + \" \"+\"is even!\")\n"
   ]
  },
  {
   "cell_type": "markdown",
   "metadata": {},
   "source": [
    "____\n",
    "**Write a program that prints the integers from 1 to 100. But for multiples of three print \"Fizz\" instead of the number, and for the multiples of five print \"Buzz\". For numbers which are multiples of both three and five print \"FizzBuzz\".**"
   ]
  },
  {
   "cell_type": "code",
   "execution_count": 22,
   "metadata": {},
   "outputs": [
    {
     "name": "stdout",
     "output_type": "stream",
     "text": [
      "Fizz\n",
      "Nothing\n",
      "Nothing\n",
      "Fizz\n",
      "Nothing\n",
      "Buzz\n",
      "Fizz\n",
      "Nothing\n",
      "Nothing\n",
      "Fizz\n",
      "Buzz\n",
      "Nothing\n",
      "Fizz\n",
      "Nothing\n",
      "Nothing\n",
      "Fizz\n",
      "Nothing\n",
      "Nothing\n",
      "Fizz\n",
      "Nothing\n",
      "Buzz\n",
      "Fizz\n",
      "Nothing\n",
      "Nothing\n",
      "Fizz\n",
      "Buzz\n",
      "Nothing\n",
      "Fizz\n",
      "Nothing\n",
      "Nothing\n",
      "Fizz\n",
      "Nothing\n",
      "Nothing\n",
      "Fizz\n",
      "Nothing\n",
      "Buzz\n",
      "Fizz\n",
      "Nothing\n",
      "Nothing\n",
      "Fizz\n",
      "Buzz\n",
      "Nothing\n",
      "Fizz\n",
      "Nothing\n",
      "Nothing\n",
      "Fizz\n",
      "Nothing\n",
      "Nothing\n",
      "Fizz\n",
      "Nothing\n",
      "Buzz\n",
      "Fizz\n",
      "Nothing\n",
      "Nothing\n",
      "Fizz\n",
      "Buzz\n",
      "Nothing\n",
      "Fizz\n",
      "Nothing\n",
      "Nothing\n",
      "Fizz\n",
      "Nothing\n",
      "Nothing\n",
      "Fizz\n",
      "Nothing\n",
      "Buzz\n",
      "Fizz\n",
      "Nothing\n",
      "Nothing\n",
      "Fizz\n",
      "Buzz\n",
      "Nothing\n",
      "Fizz\n",
      "Nothing\n",
      "Nothing\n",
      "Fizz\n",
      "Nothing\n",
      "Nothing\n",
      "Fizz\n",
      "Nothing\n",
      "Buzz\n",
      "Fizz\n",
      "Nothing\n",
      "Nothing\n",
      "Fizz\n",
      "Buzz\n",
      "Nothing\n",
      "Fizz\n",
      "Nothing\n",
      "Nothing\n",
      "Fizz\n",
      "Nothing\n",
      "Nothing\n",
      "Fizz\n",
      "Nothing\n",
      "Buzz\n",
      "Fizz\n",
      "Nothing\n",
      "Nothing\n",
      "Fizz\n"
     ]
    }
   ],
   "source": [
    "#Code in this cell\n",
    "for i in range(100):\n",
    "    if i %3 == 0 :\n",
    "        print(\"Fizz\")\n",
    "    elif i %5 == 0 :\n",
    "        print(\"Buzz\")\n",
    "    elif i %3 ==0 and i %5 ==0 :\n",
    "        print(\"FizzBuzz\")\n",
    "    else:\n",
    "        print(\"Nothing\")"
   ]
  },
  {
   "cell_type": "markdown",
   "metadata": {},
   "source": [
    "____\n",
    "**Use List Comprehension to create a list of the first letters of every word in the string below:**"
   ]
  },
  {
   "cell_type": "code",
   "execution_count": null,
   "metadata": {},
   "outputs": [],
   "source": [
    "st = 'Create a list of the first letters of every word in this string'"
   ]
  },
  {
   "cell_type": "code",
   "execution_count": 26,
   "metadata": {},
   "outputs": [
    {
     "name": "stdout",
     "output_type": "stream",
     "text": [
      "['m', 'n', 'i', 'a']\n"
     ]
    }
   ],
   "source": [
    "#Code in this cell\n",
    "first_letter=[]\n",
    "st=\"my name is ahmed \"\n",
    "words=st.split()\n",
    "for word in words:\n",
    "    first_letter.append(word[0])\n",
    "print(first_letter)"
   ]
  },
  {
   "cell_type": "code",
   "execution_count": 27,
   "metadata": {},
   "outputs": [
    {
     "name": "stdout",
     "output_type": "stream",
     "text": [
      "['m', 'n', 'i', 'a']\n"
     ]
    }
   ],
   "source": [
    "## another code with same output \n",
    "string=\"my name is ahmed \"\n",
    "first_letter=[word[0]for word in string.split() ]\n",
    "print(first_letter)"
   ]
  },
  {
   "cell_type": "markdown",
   "metadata": {},
   "source": [
    "### Great Job!"
   ]
  }
 ],
 "metadata": {
  "kernelspec": {
   "display_name": "Python 3",
   "language": "python",
   "name": "python3"
  },
  "language_info": {
   "codemirror_mode": {
    "name": "ipython",
    "version": 3
   },
   "file_extension": ".py",
   "mimetype": "text/x-python",
   "name": "python",
   "nbconvert_exporter": "python",
   "pygments_lexer": "ipython3",
   "version": "3.11.3"
  }
 },
 "nbformat": 4,
 "nbformat_minor": 1
}
