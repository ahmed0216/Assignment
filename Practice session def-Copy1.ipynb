{
 "cells": [
  {
   "cell_type": "markdown",
   "id": "037c73ac-0d86-4d5a-ac97-b8163844f2c7",
   "metadata": {},
   "source": [
    "## Fanction "
   ]
  },
  {
   "cell_type": "markdown",
   "id": "9ddbbe12-2784-4faa-9799-8ba9e7fb71e4",
   "metadata": {},
   "source": [
    "- Write a function that takes two numbers as arguments and returns their sum."
   ]
  },
  {
   "cell_type": "code",
   "execution_count": 9,
   "id": "029a5666-3416-4670-9644-a19b5fd88d26",
   "metadata": {},
   "outputs": [],
   "source": [
    "def myfun(num1,num2):\n",
    "    s=num1+num2\n",
    "    return s "
   ]
  },
  {
   "cell_type": "code",
   "execution_count": 12,
   "id": "f7e0881d-061d-410e-9208-0c4dcd6f0e9a",
   "metadata": {},
   "outputs": [
    {
     "data": {
      "text/plain": [
       "7"
      ]
     },
     "execution_count": 12,
     "metadata": {},
     "output_type": "execute_result"
    }
   ],
   "source": [
    "myfun(1,6)"
   ]
  },
  {
   "cell_type": "markdown",
   "id": "c6c90bb5-b251-407e-b13a-4c3a320f20ac",
   "metadata": {},
   "source": [
    "- Write a function that takes a list of numbers as an argument and returns the sum of those numbers."
   ]
  },
  {
   "cell_type": "code",
   "execution_count": 15,
   "id": "13e36074-9d7d-4c6d-9652-71c37a63b20c",
   "metadata": {},
   "outputs": [],
   "source": [
    "def myfun2(numbers):\n",
    "    return sum(numbers)"
   ]
  },
  {
   "cell_type": "code",
   "execution_count": 16,
   "id": "f8a90255-14a2-45e5-a265-646a13fd4167",
   "metadata": {},
   "outputs": [
    {
     "name": "stdout",
     "output_type": "stream",
     "text": [
      "15\n"
     ]
    }
   ],
   "source": [
    "numbers=[1,2,3,4,5]\n",
    "total=myfun2(numbers)\n",
    "print(total)"
   ]
  },
  {
   "cell_type": "markdown",
   "id": "5b13316d-6e99-40cc-8e20-c1cef178b500",
   "metadata": {},
   "source": [
    "- Write a function that takes a string as an argument and returns the length of that string."
   ]
  },
  {
   "cell_type": "code",
   "execution_count": 17,
   "id": "faf27133-fcec-4fb1-8ee5-33fe55d782ad",
   "metadata": {},
   "outputs": [],
   "source": [
    "def myfun3(name):\n",
    "    return len(name)"
   ]
  },
  {
   "cell_type": "code",
   "execution_count": 18,
   "id": "4b8a74e0-55d3-483b-ad65-092cd3433a77",
   "metadata": {},
   "outputs": [
    {
     "data": {
      "text/plain": [
       "5"
      ]
     },
     "execution_count": 18,
     "metadata": {},
     "output_type": "execute_result"
    }
   ],
   "source": [
    "myfun3(\"ahmed\")"
   ]
  },
  {
   "cell_type": "markdown",
   "id": "4f940a21-5052-4cf3-85ed-ec3f0b757f55",
   "metadata": {},
   "source": [
    "- Write a function that takes a list of strings as an argument and returns the length of the longest string in the list."
   ]
  },
  {
   "cell_type": "code",
   "execution_count": 19,
   "id": "5ad1b6ba-f2a0-4cd2-ab9e-daf2ee67f102",
   "metadata": {},
   "outputs": [],
   "source": [
    "def myfun4(names):\n",
    "    max_length=0\n",
    "    for name in names:\n",
    "        if len(name)>max_length:\n",
    "            max_length=len(name)\n",
    "    return max_length\n",
    "    "
   ]
  },
  {
   "cell_type": "code",
   "execution_count": 25,
   "id": "23530052-32c9-43d9-9368-6bcd08689995",
   "metadata": {},
   "outputs": [
    {
     "data": {
      "text/plain": [
       "7"
      ]
     },
     "execution_count": 25,
     "metadata": {},
     "output_type": "execute_result"
    }
   ],
   "source": [
    "# names=[\"ahmed\",\"toqa\",\"ali\",\"mohamed\",\"mazen\",\"aya\"]\n",
    "myfun4(names)"
   ]
  },
  {
   "cell_type": "markdown",
   "id": "c32bc5e5-da6a-4fc1-b634-84f58974b6a8",
   "metadata": {},
   "source": [
    "- Write a function that takes a list of numbers as an argument and returns the average of those numbers."
   ]
  },
  {
   "cell_type": "code",
   "execution_count": 26,
   "id": "e2a2b96f-1918-494a-bda5-47d1d5027249",
   "metadata": {},
   "outputs": [],
   "source": [
    "def average_fun(numbers):\n",
    "    return sum(numbers)/2"
   ]
  },
  {
   "cell_type": "code",
   "execution_count": 27,
   "id": "e1ad7d48-cb7a-4393-8c6a-96bb4354ebed",
   "metadata": {},
   "outputs": [
    {
     "data": {
      "text/plain": [
       "12.5"
      ]
     },
     "execution_count": 27,
     "metadata": {},
     "output_type": "execute_result"
    }
   ],
   "source": [
    "average_fun([1,2,3,4,5,4,6])"
   ]
  },
  {
   "cell_type": "markdown",
   "id": "c389e500-46ee-40f6-9c57-17a0649edc63",
   "metadata": {},
   "source": [
    "- Write a function that takes a string as an argument and returns True if the string is a palindrome (reads the same forwards and backwards) and False otherwise."
   ]
  },
  {
   "cell_type": "code",
   "execution_count": 37,
   "id": "d03a375f-5718-4858-b42c-8b05b5f3f5e1",
   "metadata": {},
   "outputs": [],
   "source": [
    "def myfun5(string):\n",
    "    if string==string[::-1]:\n",
    "        return True\n",
    "    else:\n",
    "        return False\n"
   ]
  },
  {
   "cell_type": "code",
   "execution_count": 39,
   "id": "7f4cc590-1d95-4619-8451-eaebd27132ea",
   "metadata": {},
   "outputs": [
    {
     "data": {
      "text/plain": [
       "True"
      ]
     },
     "execution_count": 39,
     "metadata": {},
     "output_type": "execute_result"
    }
   ],
   "source": [
    "myfun5(\"lol\")"
   ]
  },
  {
   "cell_type": "markdown",
   "id": "6572eb4a-7322-4def-b606-896135c22124",
   "metadata": {},
   "source": [
    "- Write a function that takes a list of numbers as an argument and returns a new list containing only the even numbers from the original list."
   ]
  },
  {
   "cell_type": "markdown",
   "id": "31175244",
   "metadata": {},
   "source": [
    "## Fanction "
   ]
  },
  {
   "cell_type": "markdown",
   "id": "84c96f82",
   "metadata": {},
   "source": [
    "- Write a function that takes two numbers as arguments and returns their sum."
   ]
  },
  {
   "cell_type": "code",
   "execution_count": null,
   "id": "a03830cf",
   "metadata": {},
   "outputs": [],
   "source": [
    "def myfun(num1,num2):\n",
    "    s=num1+num2\n",
    "    return s "
   ]
  },
  {
   "cell_type": "code",
   "execution_count": null,
   "id": "083b4405",
   "metadata": {},
   "outputs": [
    {
     "data": {
      "text/plain": [
       "7"
      ]
     },
     "metadata": {},
     "output_type": "display_data"
    }
   ],
   "source": [
    "myfun(1,6)"
   ]
  },
  {
   "cell_type": "markdown",
   "id": "74cba8b6",
   "metadata": {},
   "source": [
    "- Write a function that takes a list of numbers as an argument and returns the sum of those numbers."
   ]
  },
  {
   "cell_type": "code",
   "execution_count": null,
   "id": "2ee5ab9f",
   "metadata": {},
   "outputs": [],
   "source": [
    "def myfun2(numbers):\n",
    "    return sum(numbers)"
   ]
  },
  {
   "cell_type": "code",
   "execution_count": null,
   "id": "2a84d81c",
   "metadata": {},
   "outputs": [
    {
     "name": "stdout",
     "output_type": "stream",
     "text": [
      "15\n"
     ]
    }
   ],
   "source": [
    "numbers=[1,2,3,4,5]\n",
    "total=myfun2(numbers)\n",
    "print(total)"
   ]
  },
  {
   "cell_type": "markdown",
   "id": "a3a82ce5",
   "metadata": {},
   "source": [
    "- Write a function that takes a string as an argument and returns the length of that string."
   ]
  },
  {
   "cell_type": "code",
   "execution_count": null,
   "id": "d6da7b18",
   "metadata": {},
   "outputs": [],
   "source": [
    "def myfun3(name):\n",
    "    return len(name)"
   ]
  },
  {
   "cell_type": "code",
   "execution_count": null,
   "id": "0a56305b",
   "metadata": {},
   "outputs": [
    {
     "data": {
      "text/plain": [
       "5"
      ]
     },
     "metadata": {},
     "output_type": "display_data"
    }
   ],
   "source": [
    "myfun3(\"ahmed\")"
   ]
  },
  {
   "cell_type": "markdown",
   "id": "f9c40b07",
   "metadata": {},
   "source": [
    "- Write a function that takes a list of strings as an argument and returns the length of the longest string in the list."
   ]
  },
  {
   "cell_type": "code",
   "execution_count": null,
   "id": "321c79b5",
   "metadata": {},
   "outputs": [],
   "source": [
    "def myfun4(names):\n",
    "    max_length=0\n",
    "    for name in names:\n",
    "        if len(name)>max_length:\n",
    "            max_length=len(name)\n",
    "    return max_length\n",
    "    "
   ]
  },
  {
   "cell_type": "code",
   "execution_count": null,
   "id": "e29344eb",
   "metadata": {},
   "outputs": [
    {
     "data": {
      "text/plain": [
       "7"
      ]
     },
     "metadata": {},
     "output_type": "display_data"
    }
   ],
   "source": [
    "# names=[\"ahmed\",\"toqa\",\"ali\",\"mohamed\",\"mazen\",\"aya\"]\n",
    "myfun4(names)"
   ]
  },
  {
   "cell_type": "markdown",
   "id": "93db43a2",
   "metadata": {},
   "source": [
    "- Write a function that takes a list of numbers as an argument and returns the average of those numbers."
   ]
  },
  {
   "cell_type": "code",
   "execution_count": null,
   "id": "a572abbb",
   "metadata": {},
   "outputs": [],
   "source": [
    "def average_fun(numbers):\n",
    "    return sum(numbers)/2"
   ]
  },
  {
   "cell_type": "code",
   "execution_count": null,
   "id": "191a5663",
   "metadata": {},
   "outputs": [
    {
     "data": {
      "text/plain": [
       "12.5"
      ]
     },
     "metadata": {},
     "output_type": "display_data"
    }
   ],
   "source": [
    "average_fun([1,2,3,4,5,4,6])"
   ]
  },
  {
   "cell_type": "markdown",
   "id": "c1adf196",
   "metadata": {},
   "source": [
    "- Write a function that takes a string as an argument and returns True if the string is a palindrome (reads the same forwards and backwards) and False otherwise."
   ]
  },
  {
   "cell_type": "code",
   "execution_count": null,
   "id": "6f20f3f6",
   "metadata": {},
   "outputs": [],
   "source": [
    "def myfun5(string):\n",
    "    if string==string[::-1]:\n",
    "        return True\n",
    "    else:\n",
    "        return False\n"
   ]
  },
  {
   "cell_type": "code",
   "execution_count": null,
   "id": "deaf9aa4",
   "metadata": {},
   "outputs": [
    {
     "data": {
      "text/plain": [
       "True"
      ]
     },
     "metadata": {},
     "output_type": "display_data"
    }
   ],
   "source": [
    "myfun5(\"lol\")"
   ]
  },
  {
   "cell_type": "markdown",
   "id": "8cff9457",
   "metadata": {},
   "source": [
    "- Write a function that takes a list of numbers as an argument and returns a new list containing only the even numbers from the original list."
   ]
  },
  {
   "cell_type": "code",
   "execution_count": 42,
   "id": "8c48a1fa",
   "metadata": {},
   "outputs": [],
   "source": [
    "def even_num(numbers):\n",
    "    even_list=[]\n",
    "    for number in numbers:\n",
    "        if number%2==0:\n",
    "            even_list.append(number)\n",
    "    return even_list\n",
    "    "
   ]
  },
  {
   "cell_type": "code",
   "execution_count": 43,
   "id": "b55fe185",
   "metadata": {},
   "outputs": [
    {
     "data": {
      "text/plain": [
       "[0, 2, 4, 6, 8, 10, 12]"
      ]
     },
     "execution_count": 43,
     "metadata": {},
     "output_type": "execute_result"
    }
   ],
   "source": [
    "even_num([0,1,2,3,4,5,6,7,8,9,10,11,12])"
   ]
  },
  {
   "cell_type": "markdown",
   "id": "1e4177db",
   "metadata": {},
   "source": [
    "- Write a function that takes a list of numbers as an argument and returns a new list containing the squares of those numbers."
   ]
  },
  {
   "cell_type": "code",
   "execution_count": 44,
   "id": "da37047b",
   "metadata": {},
   "outputs": [],
   "source": [
    "def square(numbers):\n",
    "    squares_num=[]\n",
    "    for number in numbers:\n",
    "        squares_num.append(number**2)\n",
    "    return squares_num "
   ]
  },
  {
   "cell_type": "code",
   "execution_count": 45,
   "id": "fb1c3aa5",
   "metadata": {},
   "outputs": [
    {
     "data": {
      "text/plain": [
       "[1, 4, 9, 16, 25, 36, 49]"
      ]
     },
     "execution_count": 45,
     "metadata": {},
     "output_type": "execute_result"
    }
   ],
   "source": [
    "square([1,2,3,4,5,6,7])"
   ]
  }
 ],
 "metadata": {
  "kernelspec": {
   "display_name": "Python 3 (ipykernel)",
   "language": "python",
   "name": "python3"
  },
  "language_info": {
   "codemirror_mode": {
    "name": "ipython",
    "version": 3
   },
   "file_extension": ".py",
   "mimetype": "text/x-python",
   "name": "python",
   "nbconvert_exporter": "python",
   "pygments_lexer": "ipython3",
   "version": "3.11.3"
  }
 },
 "nbformat": 4,
 "nbformat_minor": 5
}
